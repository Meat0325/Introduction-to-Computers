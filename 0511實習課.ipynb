{
  "nbformat": 4,
  "nbformat_minor": 0,
  "metadata": {
    "colab": {
      "name": "0307.ipynb",
      "provenance": [],
      "authorship_tag": "ABX9TyPyLxbCiRbCBiGWHxhRK2eG",
      "include_colab_link": true
    },
    "kernelspec": {
      "name": "python3",
      "display_name": "Python 3"
    },
    "language_info": {
      "name": "python"
    }
  },
  "cells": [
    {
      "cell_type": "markdown",
      "metadata": {
        "id": "view-in-github",
        "colab_type": "text"
      },
      "source": [
        "<a href=\"https://colab.research.google.com/github/Meat0325/Introduction-to-Computers/blob/main/0511%E5%AF%A6%E7%BF%92%E8%AA%B2.ipynb\" target=\"_parent\"><img src=\"https://colab.research.google.com/assets/colab-badge.svg\" alt=\"Open In Colab\"/></a>"
      ]
    },
    {
      "cell_type": "code",
      "source": [
        "a=[5,7,8,12,9,1]\n",
        "#這是註解\n",
        "#長度len\n",
        "#print(len(a))\n",
        "\n",
        "#最大值max\n",
        "#print(max(a))\n",
        "\n",
        "#最小值min\n",
        "#print(min(a))\n",
        "\n",
        "#排序\n",
        "#print(sorted(a))"
      ],
      "metadata": {
        "id": "2r0z0TiOX1YC"
      },
      "execution_count": 1,
      "outputs": []
    },
    {
      "cell_type": "code",
      "source": [
        "a=[5,7,8,12,9,1]\n",
        "#後方新增值append\n",
        "#a.append(18)\n",
        "#print(a)\n",
        "\n",
        "#找值的位置index\n",
        "#print(a.index(12))\n",
        "\n",
        "#特定位置後加入\n",
        "a.insert(2,70)\n",
        "print(a)"
      ],
      "metadata": {
        "id": "baZdm406Ygwd",
        "outputId": "4a554c18-f593-4239-d9b9-38258109e573",
        "colab": {
          "base_uri": "https://localhost:8080/"
        }
      },
      "execution_count": 2,
      "outputs": [
        {
          "output_type": "stream",
          "name": "stdout",
          "text": [
            "[5, 7, 70, 8, 12, 9, 1]\n"
          ]
        }
      ]
    },
    {
      "cell_type": "code",
      "source": [
        "a=[5,7,8,12,9,1]\n",
        "#刪除remove\n",
        "#a.remove(12)\n",
        "#print(a)\n",
        "\n",
        "#特定位置刪除pop\n",
        "#a.pop(1)\n",
        "#print(a)\n",
        "\n",
        "#倒轉reverse\n",
        "a.reverse()\n",
        "print(a)"
      ],
      "metadata": {
        "id": "Z8zlUpmjZbdz",
        "outputId": "fbb786f9-cafa-4c72-c6a3-5981197f76b2",
        "colab": {
          "base_uri": "https://localhost:8080/"
        }
      },
      "execution_count": 5,
      "outputs": [
        {
          "output_type": "stream",
          "name": "stdout",
          "text": [
            "[1, 9, 12, 8, 7, 5]\n"
          ]
        }
      ]
    },
    {
      "cell_type": "code",
      "source": [
        "b=sorted(a)\n",
        "b.reverse()\n",
        "print(b)"
      ],
      "metadata": {
        "id": "LmbETb28Z-g7",
        "outputId": "0a5543b3-fbd8-40fb-a1f4-fb82f5237a90",
        "colab": {
          "base_uri": "https://localhost:8080/"
        }
      },
      "execution_count": 6,
      "outputs": [
        {
          "output_type": "stream",
          "name": "stdout",
          "text": [
            "[12, 9, 8, 7, 5, 1]\n"
          ]
        }
      ]
    },
    {
      "cell_type": "code",
      "source": [
        "c=[\"a\",\"b\",\"c\",\"d\",\"e\"]\n",
        "for i in c:\n",
        "  print(i)\n"
      ],
      "metadata": {
        "id": "joJsXeeccgwL",
        "outputId": "b18ba483-a275-406d-97ca-ac8e63ba90c7",
        "colab": {
          "base_uri": "https://localhost:8080/"
        }
      },
      "execution_count": 7,
      "outputs": [
        {
          "output_type": "stream",
          "name": "stdout",
          "text": [
            "a\n",
            "b\n",
            "c\n",
            "d\n",
            "e\n"
          ]
        }
      ]
    },
    {
      "cell_type": "code",
      "source": [
        "a1=[]\n",
        "for i in range(1,10):\n",
        "  print(i)"
      ],
      "metadata": {
        "id": "87l26PT-c_oM",
        "outputId": "6b6298a2-e634-492f-ebf4-d6435d4f2632",
        "colab": {
          "base_uri": "https://localhost:8080/"
        }
      },
      "execution_count": 8,
      "outputs": [
        {
          "output_type": "stream",
          "name": "stdout",
          "text": [
            "1\n",
            "2\n",
            "3\n",
            "4\n",
            "5\n",
            "6\n",
            "7\n",
            "8\n",
            "9\n"
          ]
        }
      ]
    },
    {
      "cell_type": "code",
      "source": [
        "a1=[]\n",
        "for i in range(1,10,2):\n",
        "  print(i)"
      ],
      "metadata": {
        "id": "g4GuTM1LdThC",
        "outputId": "78bcdd69-d646-4a42-ac07-c118f8160851",
        "colab": {
          "base_uri": "https://localhost:8080/"
        }
      },
      "execution_count": 9,
      "outputs": [
        {
          "output_type": "stream",
          "name": "stdout",
          "text": [
            "1\n",
            "3\n",
            "5\n",
            "7\n",
            "9\n"
          ]
        }
      ]
    },
    {
      "cell_type": "code",
      "source": [
        "a1=[]\n",
        "for i in range(0,10,3):\n",
        "  a1.append(i)\n",
        "  print(a1)\n",
        "print(a1)  \n"
      ],
      "metadata": {
        "id": "-MCZMSS3deMi",
        "outputId": "812d1653-90bb-43a5-a0c1-cd88aa5cbccf",
        "colab": {
          "base_uri": "https://localhost:8080/"
        }
      },
      "execution_count": 10,
      "outputs": [
        {
          "output_type": "stream",
          "name": "stdout",
          "text": [
            "[0]\n",
            "[0, 3]\n",
            "[0, 3, 6]\n",
            "[0, 3, 6, 9]\n",
            "[0, 3, 6, 9]\n"
          ]
        }
      ]
    },
    {
      "cell_type": "code",
      "source": [
        "c=[\"a\",\"b\",\"c\",\"d\",\"e\"]\n",
        "#print(len(c))\n",
        "for i in range(len(c)):\n",
        "  print(c[i])"
      ],
      "metadata": {
        "id": "X9Zte26ReITq",
        "outputId": "928799ef-3829-402d-fa40-c0b361733681",
        "colab": {
          "base_uri": "https://localhost:8080/"
        }
      },
      "execution_count": 14,
      "outputs": [
        {
          "output_type": "stream",
          "name": "stdout",
          "text": [
            "a\n",
            "b\n",
            "c\n",
            "d\n",
            "e\n"
          ]
        }
      ]
    },
    {
      "cell_type": "code",
      "source": [
        ""
      ],
      "metadata": {
        "id": "uVgjv1YqeZpW"
      },
      "execution_count": null,
      "outputs": []
    }
  ]
}