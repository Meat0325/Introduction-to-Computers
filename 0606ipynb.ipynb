{
  "nbformat": 4,
  "nbformat_minor": 0,
  "metadata": {
    "colab": {
      "name": "0606ipynb",
      "provenance": [],
      "authorship_tag": "ABX9TyNcRJr+QsUtDdop5cuixEon",
      "include_colab_link": true
    },
    "kernelspec": {
      "name": "python3",
      "display_name": "Python 3"
    },
    "language_info": {
      "name": "python"
    }
  },
  "cells": [
    {
      "cell_type": "markdown",
      "metadata": {
        "id": "view-in-github",
        "colab_type": "text"
      },
      "source": [
        "<a href=\"https://colab.research.google.com/github/Meat0325/Introduction-to-Computers/blob/main/0606ipynb.ipynb\" target=\"_parent\"><img src=\"https://colab.research.google.com/assets/colab-badge.svg\" alt=\"Open In Colab\"/></a>"
      ]
    },
    {
      "cell_type": "code",
      "execution_count": 6,
      "metadata": {
        "id": "91lICGJNHcL3"
      },
      "outputs": [],
      "source": [
        "list1 = [1,2,3,4,5]"
      ]
    },
    {
      "cell_type": "code",
      "source": [
        "list1"
      ],
      "metadata": {
        "colab": {
          "base_uri": "https://localhost:8080/"
        },
        "id": "HahTvIyLL0Mr",
        "outputId": "8a0f8d93-240c-4803-b798-af43a6e42611"
      },
      "execution_count": 7,
      "outputs": [
        {
          "output_type": "execute_result",
          "data": {
            "text/plain": [
              "[1, 2, 3, 4, 5]"
            ]
          },
          "metadata": {},
          "execution_count": 7
        }
      ]
    },
    {
      "cell_type": "code",
      "source": [
        "list2=[\"香蕉\",\"蘋果\",\"橘子\"]"
      ],
      "metadata": {
        "id": "wRd-H8d0L3HY"
      },
      "execution_count": 9,
      "outputs": []
    },
    {
      "cell_type": "code",
      "source": [
        "list2"
      ],
      "metadata": {
        "colab": {
          "base_uri": "https://localhost:8080/"
        },
        "id": "QldA47fhMhL7",
        "outputId": "6cdb196c-5866-4373-c5af-235d0fc76bba"
      },
      "execution_count": 10,
      "outputs": [
        {
          "output_type": "execute_result",
          "data": {
            "text/plain": [
              "['香蕉', '蘋果', '橘子']"
            ]
          },
          "metadata": {},
          "execution_count": 10
        }
      ]
    },
    {
      "cell_type": "code",
      "source": [
        "list3=[1,\"香蕉\",True]"
      ],
      "metadata": {
        "id": "oM9FIpRxMi2u"
      },
      "execution_count": 11,
      "outputs": []
    },
    {
      "cell_type": "code",
      "source": [
        "list3"
      ],
      "metadata": {
        "colab": {
          "base_uri": "https://localhost:8080/"
        },
        "id": "c3ibsctIMs7z",
        "outputId": "01f7d3dd-9dc4-4f8d-a3dd-4a306993da16"
      },
      "execution_count": 12,
      "outputs": [
        {
          "output_type": "execute_result",
          "data": {
            "text/plain": [
              "[1, '香蕉', True]"
            ]
          },
          "metadata": {},
          "execution_count": 12
        }
      ]
    },
    {
      "cell_type": "code",
      "source": [
        "print(list1)"
      ],
      "metadata": {
        "colab": {
          "base_uri": "https://localhost:8080/"
        },
        "id": "9SAVlIkmMt8p",
        "outputId": "de1ca36d-b4d5-4721-f54c-b95c9522c78c"
      },
      "execution_count": 14,
      "outputs": [
        {
          "output_type": "stream",
          "name": "stdout",
          "text": [
            "[1, 2, 3, 4, 5]\n"
          ]
        }
      ]
    },
    {
      "cell_type": "code",
      "source": [
        "print(list1[0])"
      ],
      "metadata": {
        "colab": {
          "base_uri": "https://localhost:8080/"
        },
        "id": "7iFSIiBwNIsm",
        "outputId": "d4a0b44a-7a4a-4af4-f892-0ea63a3e5eeb"
      },
      "execution_count": 17,
      "outputs": [
        {
          "output_type": "stream",
          "name": "stdout",
          "text": [
            "1\n"
          ]
        }
      ]
    },
    {
      "cell_type": "code",
      "source": [
        "list4=[\"香蕉\",\"蘋果\",\"橘子\"]"
      ],
      "metadata": {
        "id": "ojgBSD4BNVpN"
      },
      "execution_count": 18,
      "outputs": []
    },
    {
      "cell_type": "code",
      "source": [
        "print(list4[1])"
      ],
      "metadata": {
        "colab": {
          "base_uri": "https://localhost:8080/"
        },
        "id": "w1wBbd4eNxhW",
        "outputId": "fa7cf5ff-254e-4fde-876e-c4fa93c2cf33"
      },
      "execution_count": 22,
      "outputs": [
        {
          "output_type": "stream",
          "name": "stdout",
          "text": [
            "蘋果\n"
          ]
        }
      ]
    },
    {
      "cell_type": "code",
      "source": [
        "print(list4[-1])"
      ],
      "metadata": {
        "colab": {
          "base_uri": "https://localhost:8080/"
        },
        "id": "cRFbIhpWN05K",
        "outputId": "b43ec7c1-53fb-4dbd-b682-cc209cca6621"
      },
      "execution_count": 23,
      "outputs": [
        {
          "output_type": "stream",
          "name": "stdout",
          "text": [
            "橘子\n"
          ]
        }
      ]
    },
    {
      "cell_type": "code",
      "source": [
        "list5=[\"tom\",\"1234\"],[\"mary\",\"abcd\"],{\"david\",\"5678\"}"
      ],
      "metadata": {
        "id": "UZMeKslyOyRv"
      },
      "execution_count": 24,
      "outputs": []
    },
    {
      "cell_type": "code",
      "source": [
        "print(list5[1])"
      ],
      "metadata": {
        "colab": {
          "base_uri": "https://localhost:8080/"
        },
        "id": "MIm_Fa2zP8d-",
        "outputId": "de29f500-6f95-49a0-edb3-6652fc423093"
      },
      "execution_count": 26,
      "outputs": [
        {
          "output_type": "stream",
          "name": "stdout",
          "text": [
            "['mary', 'abcd']\n"
          ]
        }
      ]
    },
    {
      "cell_type": "code",
      "source": [
        "print(list5[1][1])"
      ],
      "metadata": {
        "colab": {
          "base_uri": "https://localhost:8080/"
        },
        "id": "8EkrRx60QECI",
        "outputId": "63a7b1e6-7fde-48a2-e09b-f7303052f3ab"
      },
      "execution_count": 27,
      "outputs": [
        {
          "output_type": "stream",
          "name": "stdout",
          "text": [
            "abcd\n"
          ]
        }
      ]
    },
    {
      "cell_type": "code",
      "source": [
        "print(list5[0][0])"
      ],
      "metadata": {
        "colab": {
          "base_uri": "https://localhost:8080/"
        },
        "id": "v6Z7asMkQPJw",
        "outputId": "cc8ce725-8ed6-4ec2-a89f-f6146dbbfff3"
      },
      "execution_count": 28,
      "outputs": [
        {
          "output_type": "stream",
          "name": "stdout",
          "text": [
            "tom\n"
          ]
        }
      ]
    },
    {
      "cell_type": "code",
      "source": [
        "score=[85,79,93]\n",
        "print(\"國文成績: %d分\" %score[0])\n",
        "print(\"數學成績: %d分\" %score[1])\n",
        "print(\"英文成績: %d分\" %score[2])"
      ],
      "metadata": {
        "colab": {
          "base_uri": "https://localhost:8080/"
        },
        "id": "bSa7VP3xQ9Fa",
        "outputId": "f91b15bb-fb41-4988-afa1-981da645e6c1"
      },
      "execution_count": 33,
      "outputs": [
        {
          "output_type": "stream",
          "name": "stdout",
          "text": [
            "國文成績: 85分\n",
            "數學成績: 79分\n",
            "英文成績: 93分\n"
          ]
        }
      ]
    },
    {
      "cell_type": "code",
      "source": [
        "list6=[1,2,3,4,5]"
      ],
      "metadata": {
        "id": "WMJHjUYNTJ0q"
      },
      "execution_count": 34,
      "outputs": []
    },
    {
      "cell_type": "code",
      "source": [
        "print(list6[0])"
      ],
      "metadata": {
        "colab": {
          "base_uri": "https://localhost:8080/"
        },
        "id": "acov08bWT72I",
        "outputId": "83006d85-619e-4d00-c217-81c76893851a"
      },
      "execution_count": 35,
      "outputs": [
        {
          "output_type": "stream",
          "name": "stdout",
          "text": [
            "1\n"
          ]
        }
      ]
    },
    {
      "cell_type": "code",
      "source": [
        "list7=[\"香蕉\",\"蘋果\",\"橘子\"]"
      ],
      "metadata": {
        "id": "6T6UfSgaT-4K"
      },
      "execution_count": 38,
      "outputs": []
    },
    {
      "cell_type": "code",
      "source": [
        "for s in list7:\n",
        "  print(s,end=\",\")"
      ],
      "metadata": {
        "colab": {
          "base_uri": "https://localhost:8080/"
        },
        "id": "2E6QOAfVUF7r",
        "outputId": "5ed3f536-29be-424c-c803-ac90947b624b"
      },
      "execution_count": 39,
      "outputs": [
        {
          "output_type": "stream",
          "name": "stdout",
          "text": [
            "香蕉,蘋果,橘子,"
          ]
        }
      ]
    },
    {
      "cell_type": "code",
      "source": [
        "items=[123,\"apple\",True]\n",
        "for item in items:\n",
        "  print(item)"
      ],
      "metadata": {
        "colab": {
          "base_uri": "https://localhost:8080/"
        },
        "id": "u2xb5y0XUIko",
        "outputId": "cd3725d9-fe26-47f9-b5d4-44fc262b84eb"
      },
      "execution_count": 40,
      "outputs": [
        {
          "output_type": "stream",
          "name": "stdout",
          "text": [
            "123\n",
            "apple\n",
            "True\n"
          ]
        }
      ]
    },
    {
      "cell_type": "code",
      "source": [
        "scores=[85,79,93]"
      ],
      "metadata": {
        "id": "Iop0AG11VxUe"
      },
      "execution_count": 41,
      "outputs": []
    },
    {
      "cell_type": "code",
      "source": [
        "print(len(scores))"
      ],
      "metadata": {
        "colab": {
          "base_uri": "https://localhost:8080/"
        },
        "id": "2qgsnr6vWe-m",
        "outputId": "bfdf1f45-64a1-4f81-8a0a-ca78cd0c919e"
      },
      "execution_count": 42,
      "outputs": [
        {
          "output_type": "stream",
          "name": "stdout",
          "text": [
            "3\n"
          ]
        }
      ]
    },
    {
      "cell_type": "code",
      "source": [
        "scores=[85,79,93]\n",
        "for i in range(len(scores)):\n",
        "  print(scores[i])"
      ],
      "metadata": {
        "colab": {
          "base_uri": "https://localhost:8080/"
        },
        "id": "BG0xm27jWjE5",
        "outputId": "1c831a4e-74d1-48f8-fae7-9c1d2512278b"
      },
      "execution_count": 43,
      "outputs": [
        {
          "output_type": "stream",
          "name": "stdout",
          "text": [
            "85\n",
            "79\n",
            "93\n"
          ]
        }
      ]
    },
    {
      "cell_type": "code",
      "source": [
        "subject=[\"國文\",\"數學\",\"英文\"]\n",
        "score=[85,79,93]\n",
        "for i in range(len(score)):\n",
        "  print(subject[i],\"成績:\",score[i],\"分\",sep='')"
      ],
      "metadata": {
        "colab": {
          "base_uri": "https://localhost:8080/"
        },
        "id": "QSUyLtVlW3xC",
        "outputId": "05cf229e-8707-4165-9295-fed7df1caeb6"
      },
      "execution_count": 19,
      "outputs": [
        {
          "output_type": "stream",
          "name": "stdout",
          "text": [
            "國文成績:85分\n",
            "數學成績:79分\n",
            "英文成績:93分\n"
          ]
        }
      ]
    },
    {
      "cell_type": "code",
      "source": [
        "num=[1,2,3] \n",
        "name=[\"Tom\",\"Mary\",\"Tony\"]\n",
        "for i in range(len(num)):\n",
        "  print(\"編號:\",num[i],\"姓名:\",name[i])"
      ],
      "metadata": {
        "colab": {
          "base_uri": "https://localhost:8080/"
        },
        "id": "R-zHrGv8Ww9u",
        "outputId": "81f56569-6aed-4c79-c7e1-c062636ed8eb"
      },
      "execution_count": 21,
      "outputs": [
        {
          "output_type": "stream",
          "name": "stdout",
          "text": [
            "編號: 1 姓名: Tom\n",
            "編號: 2 姓名: Mary\n",
            "編號: 3 姓名: Tony\n"
          ]
        }
      ]
    },
    {
      "cell_type": "code",
      "source": [
        ""
      ],
      "metadata": {
        "id": "bZ2shWdsaJHX"
      },
      "execution_count": null,
      "outputs": []
    }
  ]
}