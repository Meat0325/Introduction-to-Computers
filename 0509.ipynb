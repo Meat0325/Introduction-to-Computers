{
  "nbformat": 4,
  "nbformat_minor": 0,
  "metadata": {
    "colab": {
      "name": "0509.ipynb",
      "provenance": [],
      "authorship_tag": "ABX9TyMFJaK5QbziC9dpzQatyXid",
      "include_colab_link": true
    },
    "kernelspec": {
      "name": "python3",
      "display_name": "Python 3"
    },
    "language_info": {
      "name": "python"
    }
  },
  "cells": [
    {
      "cell_type": "markdown",
      "metadata": {
        "id": "view-in-github",
        "colab_type": "text"
      },
      "source": [
        "<a href=\"https://colab.research.google.com/github/Meat0325/Introduction-to-Computers/blob/main/0509.ipynb\" target=\"_parent\"><img src=\"https://colab.research.google.com/assets/colab-badge.svg\" alt=\"Open In Colab\"/></a>"
      ]
    },
    {
      "cell_type": "code",
      "execution_count": 5,
      "metadata": {
        "colab": {
          "base_uri": "https://localhost:8080/"
        },
        "id": "VA-f8rTpROpD",
        "outputId": "c027519b-739b-4275-c11f-248e054eaf0c"
      },
      "outputs": [
        {
          "output_type": "stream",
          "name": "stdout",
          "text": [
            "請輸入你的體溫:33.9\n",
            "體溫異常,請重新量測!\n"
          ]
        }
      ],
      "source": [
        "temp=float(input(\"請輸入你的體溫:\"))\n",
        "if temp>=37.5:\n",
        "  print(\"體溫過高!\")\n",
        "elif temp >= 37 and temp < 37.4:\n",
        "  print(\"體溫略高!\")\n",
        "elif temp >= 34 and temp <= 36.9:\n",
        "  print(\"體溫正常!\")  \n",
        "else:\n",
        "  print(\"體溫異常,請重新量測!\")    \n"
      ]
    },
    {
      "cell_type": "code",
      "source": [
        "score=input(\"請輸入成績\")\n",
        "if (int(score)>=90):\n",
        "  print(\"A\")\n",
        "elif (int(score)>=80):\n",
        "  print(\"B\")\n",
        "elif (int(score)>=70):\n",
        "  print(\"C\")\n",
        "elif (int(score)>=60):\n",
        "  print(\"D\")\n",
        "else:\n",
        "  print(\"E\")"
      ],
      "metadata": {
        "colab": {
          "base_uri": "https://localhost:8080/"
        },
        "id": "_LuuJfJfStg_",
        "outputId": "71025855-b088-4695-f1a4-5d534697ebb7"
      },
      "execution_count": 7,
      "outputs": [
        {
          "output_type": "stream",
          "name": "stdout",
          "text": [
            "請輸入成績85\n",
            "B\n"
          ]
        }
      ]
    },
    {
      "cell_type": "code",
      "source": [
        "money=int(input(\"請輸入購物金額:\"))\n",
        "if (money >=10000):\n",
        "  if (money>=100000):\n",
        "    print(\"八折\",money *0.8,end=\"元\\n\")\n",
        "  elif (money>=50000):\n",
        "    print(\"八五折\",money *0.85,end=\"元\\n\")\n",
        "  elif(money>=30000):\n",
        "    print(\"九折\",money *0.9,end=\"元\\n\")\n",
        "  else:\n",
        "    print(\"九五折\",money *0.95,end=\"元\\n\") \n",
        "else:\n",
        "  print(\"沒打折\",money,end=\"元\\n\")    "
      ],
      "metadata": {
        "colab": {
          "base_uri": "https://localhost:8080/"
        },
        "id": "Qjdr4UQqUVXT",
        "outputId": "af08925e-e033-455b-8942-6cdc3304803a"
      },
      "execution_count": 9,
      "outputs": [
        {
          "output_type": "stream",
          "name": "stdout",
          "text": [
            "請輸入購物金額:50000\n",
            "八五折 42500.0元\n"
          ]
        }
      ]
    },
    {
      "cell_type": "code",
      "source": [
        "season=input(\"請輸入月份:\")\n",
        "if (int(season)>=3 and int(season)<=5):\n",
        "  print(season,\"月是春天\")\n",
        "elif (int(season)>=6 and int(season)<=8):\n",
        "  print(season,\"月是夏天\")\n",
        "elif (int(season)>=9 and int(season)<=11):\n",
        "  print(season,\"月是秋天\")\n",
        "elif (int(season)>=1 and int(season)<=2):\n",
        "  print(season,\"月是冬天\")\n",
        "elif (int(season)>11 and int(season)<=12):\n",
        "  print(season,\"月是冬天\")  \n",
        "else:\n",
        "  print(\"月份不在範圍內\")"
      ],
      "metadata": {
        "colab": {
          "base_uri": "https://localhost:8080/"
        },
        "id": "vjU-OoAGWMek",
        "outputId": "5845b67b-f018-489d-caed-c2a7e6116795"
      },
      "execution_count": 31,
      "outputs": [
        {
          "output_type": "stream",
          "name": "stdout",
          "text": [
            "請輸入月份:12\n",
            "12 月是冬天\n"
          ]
        }
      ]
    },
    {
      "cell_type": "code",
      "source": [
        "money=int(input(\"請輸入今年收入淨額:\"))\n",
        "if (money >=300000):\n",
        "  if (money>=2000000):\n",
        "    print(\"付稅金額:\",money *0.3,end=\"元\\n\")\n",
        "  elif (money>=1000000):\n",
        "    print(\"付稅金額:\",money *0.21,end=\"元\\n\")\n",
        "  elif(money>=600000):\n",
        "    print(\"付稅金額:\",money *0.13,end=\"元\\n\")\n",
        "  else:\n",
        "    print(\"付稅金額:\",money *0.06,end=\"元\\n\") \n",
        "else:\n",
        "  print(\"付稅金額:\",money *0 ,end=\"元\\n\") "
      ],
      "metadata": {
        "colab": {
          "base_uri": "https://localhost:8080/"
        },
        "id": "Pv4h0eRLXdp_",
        "outputId": "18b1bae9-8587-4f9b-d982-1d60f17a4dd6"
      },
      "execution_count": 30,
      "outputs": [
        {
          "output_type": "stream",
          "name": "stdout",
          "text": [
            "請輸入今年收入淨額:2000000\n",
            "付稅金額: 600000.0元\n"
          ]
        }
      ]
    },
    {
      "cell_type": "code",
      "source": [
        ""
      ],
      "metadata": {
        "id": "1-jPKD1ncIQV"
      },
      "execution_count": 25,
      "outputs": []
    }
  ]
}