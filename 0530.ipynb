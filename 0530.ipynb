{
  "nbformat": 4,
  "nbformat_minor": 0,
  "metadata": {
    "colab": {
      "name": "0530.ipynb",
      "provenance": [],
      "authorship_tag": "ABX9TyMEN85M42cPW/nl35y6JG+L",
      "include_colab_link": true
    },
    "kernelspec": {
      "name": "python3",
      "display_name": "Python 3"
    },
    "language_info": {
      "name": "python"
    }
  },
  "cells": [
    {
      "cell_type": "markdown",
      "metadata": {
        "id": "view-in-github",
        "colab_type": "text"
      },
      "source": [
        "<a href=\"https://colab.research.google.com/github/Meat0325/Introduction-to-Computers/blob/main/0530.ipynb\" target=\"_parent\"><img src=\"https://colab.research.google.com/assets/colab-badge.svg\" alt=\"Open In Colab\"/></a>"
      ]
    },
    {
      "cell_type": "code",
      "execution_count": 3,
      "metadata": {
        "colab": {
          "base_uri": "https://localhost:8080/"
        },
        "id": "jDs3W9QOl5a6",
        "outputId": "df83ab4f-9791-428c-da95-f0602900a9a5"
      },
      "outputs": [
        {
          "output_type": "stream",
          "name": "stdout",
          "text": [
            "請輸入a的值4\n",
            "請輸入b的值5\n",
            "4 和 5的最小公倍數=20\n"
          ]
        }
      ],
      "source": [
        "a=int(input(\"請輸入a的值\"))\n",
        "b=int(input(\"請輸入b的值\"))\n",
        "\n",
        "maxno = a * b\n",
        "for i in range(1,maxno+1):\n",
        "  if(i % a==0 and i % b==0):\n",
        "    break\n",
        "print(\"%d 和 %d的最小公倍數=%d\"%(a,b,i))    "
      ]
    },
    {
      "cell_type": "code",
      "source": [
        "n= int(input(\"請輸入正整數:\"))\n",
        "for i in range(1,n+1):\n",
        "  if i % 5==0:\n",
        "    continue\n",
        "  print(i,end=\" \")  "
      ],
      "metadata": {
        "colab": {
          "base_uri": "https://localhost:8080/"
        },
        "id": "K5-0o42InkHT",
        "outputId": "461a0304-7d8f-48af-dd6e-e01662531834"
      },
      "execution_count": 5,
      "outputs": [
        {
          "output_type": "stream",
          "name": "stdout",
          "text": [
            "請輸入正整數:21\n",
            "1 2 3 4 6 7 8 9 11 12 13 14 16 17 18 19 21 "
          ]
        }
      ]
    },
    {
      "cell_type": "code",
      "source": [
        "total=n=0\n",
        "while(n<=10):\n",
        "  total +=n\n",
        "  n +=1\n",
        "print(total)  "
      ],
      "metadata": {
        "colab": {
          "base_uri": "https://localhost:8080/"
        },
        "id": "7QQw3S6ioizV",
        "outputId": "0144636e-c78c-47a9-9ed9-5a0b084cac6a"
      },
      "execution_count": 6,
      "outputs": [
        {
          "output_type": "stream",
          "name": "stdout",
          "text": [
            "55\n"
          ]
        }
      ]
    },
    {
      "cell_type": "code",
      "source": [
        "total=i=1\n",
        "n=int(input(\"請輸入正整數n的值:\"))\n",
        "while i<=n:\n",
        "  total *=i\n",
        "  i+=1\n",
        "print(\"%d!=%d\" % (n,total))  "
      ],
      "metadata": {
        "colab": {
          "base_uri": "https://localhost:8080/"
        },
        "id": "Th9ZfXtFpGLu",
        "outputId": "bc53985e-74b3-4241-ba50-38e1e2da77d9"
      },
      "execution_count": 21,
      "outputs": [
        {
          "output_type": "stream",
          "name": "stdout",
          "text": [
            "請輸入正整數n的值:100\n",
            "100!=93326215443944152681699238856266700490715968264381621468592963895217599993229915608941463976156518286253697920827223758251185210916864000000000000000000000000\n"
          ]
        }
      ]
    },
    {
      "cell_type": "code",
      "source": [
        "sum=0\n",
        "for i in range(0,50):\n",
        "  if i %2==0:\n",
        "    sum+=i\n",
        "  print(\"0~50的偶數和結果是\"+str(sum))     \n",
        "\n"
      ],
      "metadata": {
        "colab": {
          "base_uri": "https://localhost:8080/"
        },
        "id": "DS7Z5k5KqdOo",
        "outputId": "ab6a4106-8a1e-44ad-f2d6-6bff3941b390"
      },
      "execution_count": 32,
      "outputs": [
        {
          "output_type": "stream",
          "name": "stdout",
          "text": [
            "0~50的偶數和結果是0\n",
            "0~50的偶數和結果是0\n",
            "0~50的偶數和結果是2\n",
            "0~50的偶數和結果是2\n",
            "0~50的偶數和結果是6\n",
            "0~50的偶數和結果是6\n",
            "0~50的偶數和結果是12\n",
            "0~50的偶數和結果是12\n",
            "0~50的偶數和結果是20\n",
            "0~50的偶數和結果是20\n",
            "0~50的偶數和結果是30\n",
            "0~50的偶數和結果是30\n",
            "0~50的偶數和結果是42\n",
            "0~50的偶數和結果是42\n",
            "0~50的偶數和結果是56\n",
            "0~50的偶數和結果是56\n",
            "0~50的偶數和結果是72\n",
            "0~50的偶數和結果是72\n",
            "0~50的偶數和結果是90\n",
            "0~50的偶數和結果是90\n",
            "0~50的偶數和結果是110\n",
            "0~50的偶數和結果是110\n",
            "0~50的偶數和結果是132\n",
            "0~50的偶數和結果是132\n",
            "0~50的偶數和結果是156\n",
            "0~50的偶數和結果是156\n",
            "0~50的偶數和結果是182\n",
            "0~50的偶數和結果是182\n",
            "0~50的偶數和結果是210\n",
            "0~50的偶數和結果是210\n",
            "0~50的偶數和結果是240\n",
            "0~50的偶數和結果是240\n",
            "0~50的偶數和結果是272\n",
            "0~50的偶數和結果是272\n",
            "0~50的偶數和結果是306\n",
            "0~50的偶數和結果是306\n",
            "0~50的偶數和結果是342\n",
            "0~50的偶數和結果是342\n",
            "0~50的偶數和結果是380\n",
            "0~50的偶數和結果是380\n",
            "0~50的偶數和結果是420\n",
            "0~50的偶數和結果是420\n",
            "0~50的偶數和結果是462\n",
            "0~50的偶數和結果是462\n",
            "0~50的偶數和結果是506\n",
            "0~50的偶數和結果是506\n",
            "0~50的偶數和結果是552\n",
            "0~50的偶數和結果是552\n",
            "0~50的偶數和結果是600\n",
            "0~50的偶數和結果是600\n"
          ]
        }
      ]
    },
    {
      "cell_type": "code",
      "source": [
        "n=int(input(\"請輸入數字:\"))\n",
        "for i in range(n,0,-1):\n",
        "  print()\n",
        "  print((n-1)*\"\"+\"*\"*i)  "
      ],
      "metadata": {
        "colab": {
          "base_uri": "https://localhost:8080/"
        },
        "id": "yZ_25N10vrb3",
        "outputId": "ee451712-a1d3-48b0-f055-526df60d07e5"
      },
      "execution_count": 25,
      "outputs": [
        {
          "output_type": "stream",
          "name": "stdout",
          "text": [
            "請輸入數字:7\n",
            "\n",
            "*******\n",
            "\n",
            "******\n",
            "\n",
            "*****\n",
            "\n",
            "****\n",
            "\n",
            "***\n",
            "\n",
            "**\n",
            "\n",
            "*\n"
          ]
        }
      ]
    },
    {
      "cell_type": "code",
      "source": [
        "sum=0\n",
        "for i in range(1,101):\n",
        "  if i %3==0 or i %7==0:\n",
        "    sum+=i\n",
        "print(\"數值1~100中,所有是3或是7倍數的數之總和=\"+str(sum))    "
      ],
      "metadata": {
        "colab": {
          "base_uri": "https://localhost:8080/"
        },
        "id": "gNbVaghU1MgW",
        "outputId": "3f4b20bd-bb5a-49c9-e710-80e408452017"
      },
      "execution_count": 29,
      "outputs": [
        {
          "output_type": "stream",
          "name": "stdout",
          "text": [
            "數值1~100中,所有是3或是7倍數的數之總和=2208\n"
          ]
        }
      ]
    },
    {
      "cell_type": "code",
      "source": [
        ""
      ],
      "metadata": {
        "id": "mCij9E7T3NBY"
      },
      "execution_count": null,
      "outputs": []
    }
  ]
}