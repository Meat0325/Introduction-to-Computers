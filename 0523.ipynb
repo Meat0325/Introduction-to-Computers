{
  "nbformat": 4,
  "nbformat_minor": 0,
  "metadata": {
    "colab": {
      "name": "0523.ipynb",
      "provenance": [],
      "authorship_tag": "ABX9TyNb1nNrhKa1Qqm1zjNQPqJX",
      "include_colab_link": true
    },
    "kernelspec": {
      "name": "python3",
      "display_name": "Python 3"
    },
    "language_info": {
      "name": "python"
    }
  },
  "cells": [
    {
      "cell_type": "markdown",
      "metadata": {
        "id": "view-in-github",
        "colab_type": "text"
      },
      "source": [
        "<a href=\"https://colab.research.google.com/github/Meat0325/Introduction-to-Computers/blob/main/0523.ipynb\" target=\"_parent\"><img src=\"https://colab.research.google.com/assets/colab-badge.svg\" alt=\"Open In Colab\"/></a>"
      ]
    },
    {
      "cell_type": "code",
      "execution_count": null,
      "metadata": {
        "colab": {
          "base_uri": "https://localhost:8080/"
        },
        "id": "VA-f8rTpROpD",
        "outputId": "c027519b-739b-4275-c11f-248e054eaf0c"
      },
      "outputs": [
        {
          "output_type": "stream",
          "name": "stdout",
          "text": [
            "請輸入你的體溫:33.9\n",
            "體溫異常,請重新量測!\n"
          ]
        }
      ],
      "source": [
        "temp=float(input(\"請輸入你的體溫:\"))\n",
        "if temp>=37.5:\n",
        "  print(\"體溫過高!\")\n",
        "elif temp >= 37 and temp < 37.4:\n",
        "  print(\"體溫略高!\")\n",
        "elif temp >= 34 and temp <= 36.9:\n",
        "  print(\"體溫正常!\")  \n",
        "else:\n",
        "  print(\"體溫異常,請重新量測!\")    \n"
      ]
    },
    {
      "cell_type": "code",
      "source": [
        "score=input(\"請輸入成績\")\n",
        "if (int(score)>=90):\n",
        "  print(\"A\")\n",
        "elif (int(score)>=80):\n",
        "  print(\"B\")\n",
        "elif (int(score)>=70):\n",
        "  print(\"C\")\n",
        "elif (int(score)>=60):\n",
        "  print(\"D\")\n",
        "else:\n",
        "  print(\"E\")"
      ],
      "metadata": {
        "colab": {
          "base_uri": "https://localhost:8080/"
        },
        "id": "_LuuJfJfStg_",
        "outputId": "71025855-b088-4695-f1a4-5d534697ebb7"
      },
      "execution_count": null,
      "outputs": [
        {
          "output_type": "stream",
          "name": "stdout",
          "text": [
            "請輸入成績85\n",
            "B\n"
          ]
        }
      ]
    },
    {
      "cell_type": "code",
      "source": [
        "money=int(input(\"請輸入購物金額:\"))\n",
        "if (money >=10000):\n",
        "  if (money>=100000):\n",
        "    print(\"八折\",money *0.8,end=\"元\\n\")\n",
        "  elif (money>=50000):\n",
        "    print(\"八五折\",money *0.85,end=\"元\\n\")\n",
        "  elif(money>=30000):\n",
        "    print(\"九折\",money *0.9,end=\"元\\n\")\n",
        "  else:\n",
        "    print(\"九五折\",money *0.95,end=\"元\\n\") \n",
        "else:\n",
        "  print(\"沒打折\",money,end=\"元\\n\")    "
      ],
      "metadata": {
        "colab": {
          "base_uri": "https://localhost:8080/"
        },
        "id": "Qjdr4UQqUVXT",
        "outputId": "af08925e-e033-455b-8942-6cdc3304803a"
      },
      "execution_count": null,
      "outputs": [
        {
          "output_type": "stream",
          "name": "stdout",
          "text": [
            "請輸入購物金額:50000\n",
            "八五折 42500.0元\n"
          ]
        }
      ]
    },
    {
      "cell_type": "code",
      "source": [
        "season=input(\"請輸入月份:\")\n",
        "if (int(season)>=3 and int(season)<=5):\n",
        "  print(season,\"月是春天\")\n",
        "elif (int(season)>=6 and int(season)<=8):\n",
        "  print(season,\"月是夏天\")\n",
        "elif (int(season)>=9 and int(season)<=11):\n",
        "  print(season,\"月是秋天\")\n",
        "elif (int(season)>=1 and int(season)<=2):\n",
        "  print(season,\"月是冬天\")\n",
        "elif (int(season)>11 and int(season)<=12):\n",
        "  print(season,\"月是冬天\")  \n",
        "else:\n",
        "  print(\"月份不在範圍內\")"
      ],
      "metadata": {
        "colab": {
          "base_uri": "https://localhost:8080/"
        },
        "id": "vjU-OoAGWMek",
        "outputId": "5845b67b-f018-489d-caed-c2a7e6116795"
      },
      "execution_count": null,
      "outputs": [
        {
          "output_type": "stream",
          "name": "stdout",
          "text": [
            "請輸入月份:12\n",
            "12 月是冬天\n"
          ]
        }
      ]
    },
    {
      "cell_type": "code",
      "source": [
        "money=int(input(\"請輸入今年收入淨額:\"))\n",
        "if (money >=300000):\n",
        "  if (money>=2000000):\n",
        "    print(\"付稅金額:\",money *0.3,end=\"元\\n\")\n",
        "  elif (money>=1000000):\n",
        "    print(\"付稅金額:\",money *0.21,end=\"元\\n\")\n",
        "  elif(money>=600000):\n",
        "    print(\"付稅金額:\",money *0.13,end=\"元\\n\")\n",
        "  else:\n",
        "    print(\"付稅金額:\",money *0.06,end=\"元\\n\") \n",
        "else:\n",
        "  print(\"付稅金額:\",money *0 ,end=\"元\\n\") "
      ],
      "metadata": {
        "colab": {
          "base_uri": "https://localhost:8080/"
        },
        "id": "Pv4h0eRLXdp_",
        "outputId": "18b1bae9-8587-4f9b-d982-1d60f17a4dd6"
      },
      "execution_count": null,
      "outputs": [
        {
          "output_type": "stream",
          "name": "stdout",
          "text": [
            "請輸入今年收入淨額:2000000\n",
            "付稅金額: 600000.0元\n"
          ]
        }
      ]
    },
    {
      "cell_type": "code",
      "source": [
        "Amy={\"math\":90, \"language\":95}\n",
        "Betty={\"math\":100, \"language\":97}\n",
        "Cindy={\"math\":85, \"language\":88}\n",
        "Dora={\"math\":77, \"language\":90}\n",
        "Eva={\"math\":93, \"language\":91}\n",
        "class_score={21:Amy, 22:Betty, 23:Cindy, 24:Dora, 25:Eva}\n",
        "print(class_score[23][\"math\"])"
      ],
      "metadata": {
        "id": "1-jPKD1ncIQV",
        "colab": {
          "base_uri": "https://localhost:8080/"
        },
        "outputId": "1dde5969-80fb-472b-aabb-480849cd3ae4"
      },
      "execution_count": 2,
      "outputs": [
        {
          "output_type": "stream",
          "name": "stdout",
          "text": [
            "85\n"
          ]
        }
      ]
    },
    {
      "cell_type": "code",
      "source": [
        "for j in range(1,10):\n",
        "  for i in range(1,10):\n",
        "    k=i*j\n",
        "    print(\" %d * %d=%2d\"%(i,j,i*j),end=(\"\"))\n",
        "  print( )  \n",
        "   "
      ],
      "metadata": {
        "colab": {
          "base_uri": "https://localhost:8080/"
        },
        "id": "cR829A7kpxuI",
        "outputId": "7d1f0ac0-23ab-4c9c-e478-01208a7cf056"
      },
      "execution_count": 22,
      "outputs": [
        {
          "output_type": "stream",
          "name": "stdout",
          "text": [
            " 1 * 1= 1 2 * 1= 2 3 * 1= 3 4 * 1= 4 5 * 1= 5 6 * 1= 6 7 * 1= 7 8 * 1= 8 9 * 1= 9\n",
            " 1 * 2= 2 2 * 2= 4 3 * 2= 6 4 * 2= 8 5 * 2=10 6 * 2=12 7 * 2=14 8 * 2=16 9 * 2=18\n",
            " 1 * 3= 3 2 * 3= 6 3 * 3= 9 4 * 3=12 5 * 3=15 6 * 3=18 7 * 3=21 8 * 3=24 9 * 3=27\n",
            " 1 * 4= 4 2 * 4= 8 3 * 4=12 4 * 4=16 5 * 4=20 6 * 4=24 7 * 4=28 8 * 4=32 9 * 4=36\n",
            " 1 * 5= 5 2 * 5=10 3 * 5=15 4 * 5=20 5 * 5=25 6 * 5=30 7 * 5=35 8 * 5=40 9 * 5=45\n",
            " 1 * 6= 6 2 * 6=12 3 * 6=18 4 * 6=24 5 * 6=30 6 * 6=36 7 * 6=42 8 * 6=48 9 * 6=54\n",
            " 1 * 7= 7 2 * 7=14 3 * 7=21 4 * 7=28 5 * 7=35 6 * 7=42 7 * 7=49 8 * 7=56 9 * 7=63\n",
            " 1 * 8= 8 2 * 8=16 3 * 8=24 4 * 8=32 5 * 8=40 6 * 8=48 7 * 8=56 8 * 8=64 9 * 8=72\n",
            " 1 * 9= 9 2 * 9=18 3 * 9=27 4 * 9=36 5 * 9=45 6 * 9=54 7 * 9=63 8 * 9=72 9 * 9=81\n"
          ]
        }
      ]
    },
    {
      "cell_type": "code",
      "source": [
        "for i in range(1,5):\n",
        "  if (i==4):\n",
        "    break\n",
        "  print(i,end=\" \")  "
      ],
      "metadata": {
        "colab": {
          "base_uri": "https://localhost:8080/"
        },
        "id": "u56hlY4ftBRs",
        "outputId": "3395c8ea-171f-451e-99eb-5e99040dc251"
      },
      "execution_count": 25,
      "outputs": [
        {
          "output_type": "stream",
          "name": "stdout",
          "text": [
            "1 2 3 "
          ]
        }
      ]
    },
    {
      "cell_type": "code",
      "source": [
        "count=0\n",
        "for string in \"測試看看!\":\n",
        "  count+=1\n",
        "  if string ==\"看\":\n",
        "    break\n",
        "  print(string)\n",
        "print('迴圈結束')\n",
        "print('迴圈執行了 %d 次'%count)    "
      ],
      "metadata": {
        "colab": {
          "base_uri": "https://localhost:8080/"
        },
        "id": "_do-u7DLxHy1",
        "outputId": "65555464-8201-4c5f-b963-160aae7900d7"
      },
      "execution_count": 27,
      "outputs": [
        {
          "output_type": "stream",
          "name": "stdout",
          "text": [
            "測\n",
            "試\n",
            "迴圈結束\n",
            "迴圈執行了 3 次\n"
          ]
        }
      ]
    },
    {
      "cell_type": "code",
      "source": [
        "a=int(input(\"請輸入a的值:\"))\n",
        "b=int(input(\"請輸入b的值:\"))\n",
        "for i in range(1,(a*b)+1):\n",
        "  if(i % a==0and i % b==0):\n",
        "    break\n",
        "print(\"最小公倍數= %d\"%(i))    "
      ],
      "metadata": {
        "colab": {
          "base_uri": "https://localhost:8080/"
        },
        "id": "CD4U8CSpyLPm",
        "outputId": "b5a2cbb4-ed56-4f3d-b4c5-60a54c5e4f3d"
      },
      "execution_count": 30,
      "outputs": [
        {
          "output_type": "stream",
          "name": "stdout",
          "text": [
            "請輸入a的值:4\n",
            "請輸入b的值:6\n",
            "最小公倍數= 12\n"
          ]
        }
      ]
    },
    {
      "cell_type": "code",
      "source": [
        "n=int(input(\"請輸入正整數:\"))\n",
        "for i in range(1,n+1):\n",
        "  if i%5==0:\n",
        "    continue\n",
        "  print(i,end=\" \")  "
      ],
      "metadata": {
        "colab": {
          "base_uri": "https://localhost:8080/"
        },
        "id": "3ap9D5p70dT8",
        "outputId": "f447424b-e46d-420c-b150-f1464bc81410"
      },
      "execution_count": 32,
      "outputs": [
        {
          "output_type": "stream",
          "name": "stdout",
          "text": [
            "請輸入正整數:12\n",
            "1 2 3 4 6 7 8 9 11 12 "
          ]
        }
      ]
    },
    {
      "cell_type": "code",
      "source": [
        ""
      ],
      "metadata": {
        "id": "EZsepadQ1qN1"
      },
      "execution_count": null,
      "outputs": []
    }
  ]
}